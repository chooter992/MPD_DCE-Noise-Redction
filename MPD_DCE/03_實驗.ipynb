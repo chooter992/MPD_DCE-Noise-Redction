{
 "cells": [
  {
   "cell_type": "code",
   "execution_count": 3,
   "metadata": {},
   "outputs": [],
   "source": [
    "import os\n",
    "import cv2\n",
    "from PIL import Image\n",
    "import numpy as np\n",
    "import matplotlib.pyplot as plt\n",
    "import tensorflow as tf\n",
    "import tensorflow_addons as tfa"
   ]
  },
  {
   "cell_type": "code",
   "execution_count": 4,
   "metadata": {},
   "outputs": [],
   "source": [
    "from enhance_model import enhance_net\n",
    "from denoise_model import denoising_net"
   ]
  },
  {
   "cell_type": "code",
   "execution_count": 5,
   "metadata": {},
   "outputs": [],
   "source": [
    "def NormalizeData(data):\n",
    "    return (data - tf.math.reduce_min(data)) / (tf.math.reduce_max(data) - tf.math.reduce_min(data))"
   ]
  },
  {
   "cell_type": "code",
   "execution_count": 6,
   "metadata": {},
   "outputs": [
    {
     "name": "stdout",
     "output_type": "stream",
     "text": [
      "10\n"
     ]
    },
    {
     "ename": "ZeroDivisionError",
     "evalue": "division by zero",
     "output_type": "error",
     "traceback": [
      "\u001b[1;31m---------------------------------------------------------------------------\u001b[0m",
      "\u001b[1;31mZeroDivisionError\u001b[0m                         Traceback (most recent call last)",
      "Cell \u001b[1;32mIn[6], line 29\u001b[0m\n\u001b[0;32m     26\u001b[0m     mean_psnr\u001b[39m+\u001b[39m\u001b[39m=\u001b[39mpsnr\n\u001b[0;32m     28\u001b[0m     i\u001b[39m+\u001b[39m\u001b[39m=\u001b[39m\u001b[39m1\u001b[39m\n\u001b[1;32m---> 29\u001b[0m mean_ssim \u001b[39m/\u001b[39m\u001b[39m=\u001b[39m i\n\u001b[0;32m     30\u001b[0m mean_psnr \u001b[39m/\u001b[39m\u001b[39m=\u001b[39m i\n\u001b[0;32m     31\u001b[0m \u001b[39mprint\u001b[39m(\u001b[39m'\u001b[39m\u001b[39mssim: \u001b[39m\u001b[39m'\u001b[39m, mean_ssim)\n",
      "\u001b[1;31mZeroDivisionError\u001b[0m: division by zero"
     ]
    }
   ],
   "source": [
    "best_ssim = 0\n",
    "best_psnr = 0\n",
    "epoch = 0\n",
    "for j in range(10,101,10):\n",
    "    print(j)\n",
    "    # enhance_path = 'result/paper_use/Ablation Study/CSP_DCE_1_25_10_1600/epoch{0}/'.format(j)\n",
    "    # enhance_path = 'Dataset/denoise/test/DCE_enhance/'\n",
    "    enhance_path = 'result/CSP_DCE_Split2+LWDSN/epoch{0}/'.format(j)\n",
    "    high_pth = 'Dataset/denoise/test/high/'\n",
    "    mean_ssim = 0\n",
    "    mean_psnr = 0\n",
    "    i = 0\n",
    "    for file in os.listdir(enhance_path):\n",
    "        enhance = cv2.imread(enhance_path+file)\n",
    "        if enhance is None:\n",
    "            print('1')\n",
    "        high = cv2.imread(high_pth+file[:-4]+'.png')\n",
    "        if high is None:\n",
    "            print(file[-4])\n",
    "        \n",
    "\n",
    "        ssim = tf.image.ssim(enhance,high,max_val=255)\n",
    "        psnr = tf.image.psnr(high,enhance,max_val=255)\n",
    "        \n",
    "        mean_ssim+=ssim\n",
    "        mean_psnr+=psnr\n",
    "        \n",
    "        i+=1\n",
    "    mean_ssim /= i\n",
    "    mean_psnr /= i\n",
    "    print('ssim: ', mean_ssim)\n",
    "    print('psnr: ', mean_psnr)\n",
    "    if mean_ssim >= best_ssim and mean_psnr >= best_psnr:\n",
    "        best_ssim = mean_ssim\n",
    "        best_psnr = mean_psnr\n",
    "        epoch = j\n",
    "print(epoch)\n",
    "print('best_ssim: ', best_ssim)\n",
    "print('best_psnr: ', best_psnr)"
   ]
  },
  {
   "cell_type": "code",
   "execution_count": null,
   "metadata": {},
   "outputs": [],
   "source": [
    "best_ssim = 0\n",
    "best_psnr = 0\n",
    "\n",
    "# enhance_path = 'result/paper_use/{0}/'.format(Method)\n",
    "enhance_path = './result/MSP_DCE+DSN/epoch10/'\n",
    "high_pth = 'Dataset/denoise/test/high/'\n",
    "mean_ssim = 0\n",
    "mean_psnr = 0\n",
    "i = 0\n",
    "for file in os.listdir(enhance_path):\n",
    "    enhance = cv2.imread(enhance_path+file)\n",
    "    if enhance is None:\n",
    "        print('1')\n",
    "    high = cv2.imread(high_pth+file[:-4]+'.png')\n",
    "    if high is None:\n",
    "        print(file[-4])\n",
    "    \n",
    "\n",
    "    ssim = tf.image.ssim(enhance,high,max_val=255)\n",
    "    psnr = tf.image.psnr(high,enhance,max_val=255)\n",
    "    \n",
    "    mean_ssim+=ssim\n",
    "    mean_psnr+=psnr\n",
    "    \n",
    "    i+=1\n",
    "mean_ssim /= i\n",
    "mean_psnr /= i\n",
    "print('ssim: ', mean_ssim)\n",
    "print('psnr: ', mean_psnr)\n",
    "if mean_ssim >= best_ssim and mean_psnr >= best_psnr:\n",
    "    best_ssim = mean_ssim\n",
    "    best_psnr = mean_psnr\n",
    "print('best_ssim: ', best_ssim)\n",
    "print('best_psnr: ', best_psnr)"
   ]
  },
  {
   "cell_type": "markdown",
   "metadata": {},
   "source": [
    "## 各模型實驗結果圖"
   ]
  },
  {
   "cell_type": "code",
   "execution_count": null,
   "metadata": {},
   "outputs": [],
   "source": [
    "Method = 'low'\n",
    "# enhance_path = 'result/paper_use/{0}/'.format(Method)\n",
    "Method = ['low','HE','LIME', 'RetinexNet', 'EnlightenGAN', 'DCE', 'CSP_DCE+Small_N2N', 'Ground Truth']\n",
    "for method in Method:\n",
    "    enhance_path = 'result/paper_use/Visual Quality Evaluation/{0}/'.format(method)\n",
    "    enhance = cv2.imread(enhance_path+'1.png')\n",
    "    crop_h = 75\n",
    "    crop_w = 235\n",
    "    enhance_crop = enhance[crop_h:crop_h+48*2, crop_w:crop_w+64*2, :]\n",
    "    cv2.imwrite(enhance_path+'1_crop.png', enhance_crop)\n",
    "    enhance_box = cv2.rectangle(enhance, (crop_w, crop_h), (crop_w+64*2, crop_h+48*2), (0,0,255), 3, cv2.LINE_AA)\n",
    "    cv2.imwrite(enhance_path+'1_box.png', enhance_box)\n",
    "\n",
    "    enhance = cv2.imread(enhance_path+'55.png')\n",
    "    crop_h = 100\n",
    "    crop_w = 430\n",
    "    enhance_crop = enhance[crop_h:crop_h+48*2, crop_w:crop_w+64*2, :]\n",
    "    cv2.imwrite(enhance_path+'55_crop.png', enhance_crop)\n",
    "    enhance_box = cv2.rectangle(enhance, (crop_w, crop_h), (crop_w+64*2, crop_h+48*2), (0,255,0), 3, cv2.LINE_AA)\n",
    "    cv2.imwrite(enhance_path+'55_box.png', enhance_box)\n",
    "\n",
    "    enhance = cv2.imread(enhance_path+'778.png')\n",
    "    crop_h = 150\n",
    "    crop_w = 450\n",
    "    enhance_crop = enhance[crop_h:crop_h+48*2, crop_w:crop_w+64*2, :]\n",
    "    cv2.imwrite(enhance_path+'778_crop.png', enhance_crop)\n",
    "    enhance_box = cv2.rectangle(enhance, (crop_w, crop_h), (crop_w+64*2, crop_h+48*2), (0,255,0), 3, cv2.LINE_AA)\n",
    "    cv2.imwrite(enhance_path+'778_box.png', enhance_box)\n",
    "    \n",
    "    enhance = cv2.imread(enhance_path+'111.png')\n",
    "    crop_h = 70\n",
    "    crop_w = 400\n",
    "    enhance_crop = enhance[crop_h:crop_h+48*2, crop_w:crop_w+64*2, :]\n",
    "    cv2.imwrite(enhance_path+'111_crop.png', enhance_crop)\n",
    "    enhance_box = cv2.rectangle(enhance, (crop_w, crop_h), (crop_w+64*2, crop_h+48*2), (0,255,0), 3, cv2.LINE_AA)\n",
    "    cv2.imwrite(enhance_path+'111_box.png', enhance_box)\n",
    "    \n",
    "    enhance = cv2.imread(enhance_path+'547.png')\n",
    "    crop_h = 15\n",
    "    crop_w = 455\n",
    "    enhance_crop = enhance[crop_h:crop_h+48*2, crop_w:crop_w+64*2, :]\n",
    "    cv2.imwrite(enhance_path+'547_crop.png', enhance_crop)\n",
    "    enhance_box = cv2.rectangle(enhance, (crop_w, crop_h), (crop_w+64*2, crop_h+48*2), (0,255,0), 3, cv2.LINE_AA)\n",
    "    cv2.imwrite(enhance_path+'547_box.png', enhance_box)"
   ]
  },
  {
   "cell_type": "code",
   "execution_count": null,
   "metadata": {},
   "outputs": [],
   "source": [
    "Method = 'low'\n",
    "# enhance_path = 'result/paper_use/{0}/'.format(Method)\n",
    "enhance_path = 'result/paper_use/DCE/'\n",
    "enhance = cv2.imread(enhance_path+'22.png')\n",
    "crop_h = 75\n",
    "crop_w = 35\n",
    "enhance_crop = enhance[crop_h:crop_h+48*3, crop_w:crop_w+64*3, :]\n",
    "cv2.imwrite(enhance_path+'22_crop.png', enhance_crop)\n",
    "\n",
    "enhance_box = cv2.rectangle(enhance, (crop_w, crop_h), (crop_w+64*3, crop_h+48*3), (0,0,255), 3, cv2.LINE_AA)\n",
    "cv2.imwrite(enhance_path+'22_box.png', enhance_box)\n",
    "\n",
    "enhance = cv2.imread(enhance_path+'146.png')\n",
    "crop_h = 100\n",
    "crop_w = 30\n",
    "enhance_crop = enhance[crop_h:crop_h+48*3, crop_w:crop_w+64*3, :]\n",
    "cv2.imwrite(enhance_path+'146_crop.png', enhance_crop)\n",
    "\n",
    "enhance_box = cv2.rectangle(enhance, (crop_w, crop_h), (crop_w+64*3, crop_h+48*3), (0,255,0), 3, cv2.LINE_AA)\n",
    "cv2.imwrite(enhance_path+'146_box.png', enhance_box)"
   ]
  },
  {
   "cell_type": "code",
   "execution_count": null,
   "metadata": {},
   "outputs": [],
   "source": [
    "Method = ['low','Ground Truth', 'DCE', 'DCE_spilt', 'CSP_DCE', 'CSP_DCE+N2N', 'CSP_DCE+Small_N2N', ]\n",
    "for method in Method:\n",
    "    enhance_path = 'result/paper_use/Ablation Study/{0}/'.format(method)\n",
    "    enhance = cv2.imread(enhance_path+'146.png')\n",
    "    crop_h = 200\n",
    "    crop_w = 30\n",
    "    enhance_crop = enhance[crop_h:crop_h+48*2, crop_w:crop_w+64*2, :]\n",
    "    cv2.imwrite(enhance_path+'146_crop.png', enhance_crop)\n",
    "    enhance_box = cv2.rectangle(enhance, (crop_w, crop_h), (crop_w+64*2, crop_h+48*2), (0,0,255), 3, cv2.LINE_AA)\n",
    "    cv2.imwrite(enhance_path+'146_box.png', enhance_box)"
   ]
  },
  {
   "cell_type": "code",
   "execution_count": null,
   "metadata": {},
   "outputs": [],
   "source": []
  }
 ],
 "metadata": {
  "interpreter": {
   "hash": "a480b68b8c343a8999e692c3d6d2f5bf9e4da97c94672fb67f8d413f9dcb69e4"
  },
  "kernelspec": {
   "display_name": "Python 3.8.5 ('tf26')",
   "language": "python",
   "name": "python3"
  },
  "language_info": {
   "codemirror_mode": {
    "name": "ipython",
    "version": 3
   },
   "file_extension": ".py",
   "mimetype": "text/x-python",
   "name": "python",
   "nbconvert_exporter": "python",
   "pygments_lexer": "ipython3",
   "version": "3.10.11"
  },
  "orig_nbformat": 4
 },
 "nbformat": 4,
 "nbformat_minor": 2
}
