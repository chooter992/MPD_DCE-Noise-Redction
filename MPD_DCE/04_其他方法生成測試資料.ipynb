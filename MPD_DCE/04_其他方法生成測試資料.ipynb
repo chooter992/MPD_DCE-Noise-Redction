{
 "cells": [
  {
   "cell_type": "code",
   "execution_count": 2,
   "metadata": {},
   "outputs": [],
   "source": [
    "import os\n",
    "import cv2\n",
    "import numpy as np\n",
    "from PIL import Image"
   ]
  },
  {
   "cell_type": "code",
   "execution_count": 4,
   "metadata": {},
   "outputs": [],
   "source": [
    "low_path = './Dataset/low/'\n",
    "# low_path = 'result/paper_use/Visual Comparisons/low/output/'\n",
    "out_path = 'result/paper_use/Visual Comparisons/HE/'"
   ]
  },
  {
   "cell_type": "markdown",
   "metadata": {},
   "source": [
    "# Contrast-limited adaptive histogram equalization\n",
    "Contrast-limited adaptive histogram equalization: speed and effectiveness"
   ]
  },
  {
   "cell_type": "code",
   "execution_count": 9,
   "metadata": {},
   "outputs": [
    {
     "name": "stdout",
     "output_type": "stream",
     "text": [
      "sec:  0.006582403182983398\n",
      "sec:  0.006122064590454101\n",
      "sec:  0.006128772099812826\n",
      "sec:  0.006316916147867838\n",
      "sec:  0.00624996821085612\n"
     ]
    }
   ],
   "source": [
    "import time\n",
    "for i in range(5):\n",
    "    strat = time.time()\n",
    "    for file in os.listdir(low_path):\n",
    "        img = Image.open(low_path+file).convert('RGB')\n",
    "        img = np.uint8(img)\n",
    "        r = img[:,:,0]\n",
    "        g = img[:,:,1]\n",
    "        b = img[:,:,2]\n",
    "        \n",
    "        claher = cv2.createCLAHE(clipLimit=20, tileGridSize=(2,2))\n",
    "        claheg = cv2.createCLAHE(clipLimit=20, tileGridSize=(2,2))\n",
    "        claheb = cv2.createCLAHE(clipLimit=20, tileGridSize=(2,2))\n",
    "        \n",
    "        cllr = claher.apply(r)\n",
    "        cllg = claheg.apply(g)\n",
    "        cllb = claheb.apply(b)\n",
    "        \n",
    "        rgb_img = np.dstack((cllr,cllg,cllb))\n",
    "        rgb_img = cv2.cvtColor(rgb_img, cv2.COLOR_RGB2BGR)\n",
    "        # cv2.imwrite(out_path+file, rgb_img)\n",
    "    sec = (time.time()-strat)/len(os.listdir(low_path))\n",
    "    print('sec: ',sec)"
   ]
  }
 ],
 "metadata": {
  "kernelspec": {
   "display_name": "Python 3.8.5 ('tf26')",
   "language": "python",
   "name": "python3"
  },
  "language_info": {
   "codemirror_mode": {
    "name": "ipython",
    "version": 3
   },
   "file_extension": ".py",
   "mimetype": "text/x-python",
   "name": "python",
   "nbconvert_exporter": "python",
   "pygments_lexer": "ipython3",
   "version": "3.8.5"
  },
  "orig_nbformat": 4,
  "vscode": {
   "interpreter": {
    "hash": "a480b68b8c343a8999e692c3d6d2f5bf9e4da97c94672fb67f8d413f9dcb69e4"
   }
  }
 },
 "nbformat": 4,
 "nbformat_minor": 2
}
