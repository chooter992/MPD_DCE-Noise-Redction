{
 "cells": [
  {
   "cell_type": "code",
   "execution_count": 1,
   "metadata": {},
   "outputs": [],
   "source": [
    "import os\n",
    "import cv2\n",
    "import PIL.Image as Image\n",
    "import time\n",
    "import numpy as np\n",
    "import matplotlib.pyplot as plt\n",
    "import tensorflow as tf\n",
    "from enhanced_model import enhance_net\n",
    "from denoise_model import denoising_net"
   ]
  },
  {
   "cell_type": "code",
   "execution_count": 2,
   "metadata": {},
   "outputs": [
    {
     "name": "stdout",
     "output_type": "stream",
     "text": [
      "Small_Denoised_sigmoid_LOL_Lambda2_1\n"
     ]
    },
    {
     "data": {
      "text/plain": [
       "<tensorflow.python.training.tracking.util.CheckpointLoadStatus at 0x1778c513b80>"
      ]
     },
     "execution_count": 2,
     "metadata": {},
     "output_type": "execute_result"
    }
   ],
   "source": [
    "model_name = ['Small_Denoised_sigmoid_LOL_Lambda2_1']\n",
    "model_name = model_name[0]\n",
    "\n",
    "mode = ['Large', 'Small']\n",
    "mode = mode[1]\n",
    "\n",
    "add_noise = False\n",
    "print(model_name)\n",
    "\n",
    "i = 'epoch1901_ssim0.869741_psnr33.173935'\n",
    "denoising_model = denoising_net(input_shape=(None,None,3), mode=mode, model_name=model_name, train=False, add_noise=add_noise)\n",
    "# model.enhancement_net.load_weights(enhancement_path)\n",
    "denoising_path = './model/{0}/weights/{1}/'.format(model_name, i)\n",
    "denoising_model.denoising_net.load_weights(denoising_path)"
   ]
  },
  {
   "cell_type": "code",
   "execution_count": 3,
   "metadata": {},
   "outputs": [
    {
     "name": "stdout",
     "output_type": "stream",
     "text": [
      "CSP_DCE\n"
     ]
    }
   ],
   "source": [
    "model_name = ['DCE', 'CSP_DCE', 'MSP_DCE', 'DCE++']\n",
    "model_name = model_name[1]\n",
    "\n",
    "print(model_name)\n"
   ]
  },
  {
   "cell_type": "code",
   "execution_count": 5,
   "metadata": {},
   "outputs": [
    {
     "name": "stdout",
     "output_type": "stream",
     "text": [
      "0.10459090868631998\n",
      "0.0935232957204183\n",
      "0.09400480588277181\n",
      "0.09423425992329916\n",
      "0.09419201215108236\n",
      "0.09278720219930013\n",
      "0.09265246391296386\n",
      "0.09323670069376627\n",
      "0.09330388704935709\n",
      "0.09299894968668619\n"
     ]
    }
   ],
   "source": [
    "i = 80\n",
    "for i in range(10,11,10):\n",
    "    path = './model/{0}/weights/epoch{1}/'.format('CSP_DCE_Split2', i)\n",
    "    # path = './model/CSP_DCE_1_25_10_1600/weights/epoch{0}/'.format(i)\n",
    "    enhance_model = enhance_net(input_shape=(None,None,3), model_name=model_name)\n",
    "    enhance_model.enhancement_net.load_weights(path)\n",
    "\n",
    "    img_dir = './Dataset/low/'\n",
    "    # img_dir = './Dataset/Face_Detection/DarkFace/'\n",
    "    # img_dir = 'C://Users/user/Downloads/mh/'\n",
    "    output_dir = './result/{0}/epoch{1}/'.format('CSP_DCE_Split2+LWDSN', i)\n",
    "    # output_dir = './result/Face_Detection/'\n",
    "\n",
    "    folder = os.path.exists(output_dir)\n",
    "    if not folder:\n",
    "        os.makedirs(output_dir)\n",
    "\n",
    "\n",
    "    for i in range(10):\n",
    "        strat = time.time()\n",
    "        for file in os.listdir(img_dir):\n",
    "            img_path = img_dir + file\n",
    "            \n",
    "            img = cv2.imread(img_path, cv2.COLOR_BGR2RGB)\n",
    "            img = cv2.cvtColor(img, cv2.COLOR_BGR2RGB)/255\n",
    "            \n",
    "            h,w,c = np.shape(img)\n",
    "            img = tf.reshape(img, (1,h,w,c))\n",
    "            img = tf.cast(img, dtype=tf.float32)\n",
    "            \n",
    "            image, parameter_map = enhance_model.predict(img)\n",
    "            image,noise_img = denoising_model.predict(image)\n",
    "            \n",
    "            # denoising_image = NormalizeData(enhancemnet_image)\n",
    "            image = np.reshape(image, (h,w,c))\n",
    "            image = cv2.cvtColor(image, cv2.COLOR_RGB2BGR)\n",
    "            # cv2.imwrite(output_dir +file, image*255)\n",
    "\n",
    "        end = time.time()\n",
    "        per_image_time = (end - strat)/len(os.listdir(img_dir))\n",
    "        print(per_image_time)"
   ]
  },
  {
   "cell_type": "code",
   "execution_count": null,
   "metadata": {},
   "outputs": [],
   "source": []
  }
 ],
 "metadata": {
  "kernelspec": {
   "display_name": "Python 3.8.5 ('tf26')",
   "language": "python",
   "name": "python3"
  },
  "language_info": {
   "codemirror_mode": {
    "name": "ipython",
    "version": 3
   },
   "file_extension": ".py",
   "mimetype": "text/x-python",
   "name": "python",
   "nbconvert_exporter": "python",
   "pygments_lexer": "ipython3",
   "version": "3.8.5"
  },
  "orig_nbformat": 4,
  "vscode": {
   "interpreter": {
    "hash": "a480b68b8c343a8999e692c3d6d2f5bf9e4da97c94672fb67f8d413f9dcb69e4"
   }
  }
 },
 "nbformat": 4,
 "nbformat_minor": 2
}
